{
 "cells": [
  {
   "cell_type": "markdown",
   "id": "25d7736c-ba17-4aff-b6bb-66eba20fbf4e",
   "metadata": {},
   "source": [
    "# Lab | List, Dict and Set Comprehension"
   ]
  },
  {
   "cell_type": "markdown",
   "id": "7dd3cbde-675a-4b81-92c3-f728846dbe06",
   "metadata": {},
   "source": [
    "## Exercise: Managing Customer Orders Optimized with Comprehension"
   ]
  },
  {
   "cell_type": "markdown",
   "id": "5d500160-2fb7-4777-b5e4-09d45ebaf328",
   "metadata": {},
   "source": [
    "In the previous exercise, you developed a program to manage customer orders and inventory. Now, let's take it a step further and incorporate comprehension into your code.\n",
    "\n",
    "Follow the steps below to complete the exercise:\n",
    "\n",
    "1. Review your code from the previous exercise and identify areas where you can apply comprehension to simplify and streamline your code. \n",
    "\n",
    "    - *Hint: Apply it to initialize inventory, updating the inventory and printing the updated inventory.*\n",
    "    \n",
    "    - For example, in initializing the inventory, we could have:\n",
    "    \n",
    "        ```python\n",
    "        def initialize_inventory(products):\n",
    "            inventory = {product: int(input(f\"Enter the quantity of {product}s available: \")) for product in products}\n",
    "            return inventory\n",
    "\n",
    "        ```\n",
    "<br>\n",
    "    \n",
    "    \n",
    "2. Modify the function get_customer_orders so it prompts the user to enter the number of customer orders and gathers the product names using a loop and user input. Use comprehension.\n",
    "\n",
    "3. Add a new function to calculate the total price of the customer order. For each product in customer_orders, prompt the user to enter the price of that product. Use comprehension to calculate the total price. Note: assume that the user can only have 1 unit of each product.\n",
    "\n",
    "4. Modify the update_inventory function to remove the product from the inventory if its quantity becomes zero after fulfilling the customer orders. Use comprehension to filter out the products with a quantity of zero from the inventory.\n",
    "\n",
    "5. Print the total price of the customer order.\n",
    "\n",
    "Your code should produce output similar to the following:\n",
    "\n",
    "```python\n",
    "Enter the quantity of t-shirts available:  5\n",
    "Enter the quantity of mugs available:  4\n",
    "Enter the quantity of hats available:  3\n",
    "Enter the quantity of books available:  2\n",
    "Enter the quantity of keychains available:  1\n",
    "Enter the number of customer orders:  2\n",
    "Enter the name of a product that a customer wants to order:  hat\n",
    "Enter the name of a product that a customer wants to order:  keychain\n",
    "\n",
    "Order Statistics:\n",
    "Total Products Ordered: 2\n",
    "Percentage of Unique Products Ordered: 40.0\n",
    "\n",
    "Updated Inventory:\n",
    "t-shirt: 5\n",
    "mug: 4\n",
    "hat: 2\n",
    "book: 2\n",
    "Enter the price of keychain:  5\n",
    "Enter the price of hat:  10\n",
    "Total Price: 15.0\n",
    "\n",
    "```\n"
   ]
  },
  {
   "cell_type": "code",
   "execution_count": 4,
   "id": "8468ab0c-8222-4429-a476-e137faaf960b",
   "metadata": {},
   "outputs": [],
   "source": [
    "def initialize_inventory(products):\n",
    "    inventory = {product: int(input(f\"Enter the quantity of {product} available: \")) for product in products}\n",
    "    return inventory"
   ]
  },
  {
   "cell_type": "code",
   "execution_count": 6,
   "id": "b243c538-09a1-4805-80e0-f7e6be918dea",
   "metadata": {},
   "outputs": [],
   "source": [
    "def get_customer_orders():\n",
    "    num_orders = int(input(\"Enter the number of orders: \"))\n",
    "    return {input(\"Which product did the customer order? \").strip().lower() for i in range(num_orders)}"
   ]
  },
  {
   "cell_type": "code",
   "execution_count": 8,
   "id": "b4dc8143-4b9b-4f1d-8f6f-44b009844da0",
   "metadata": {},
   "outputs": [],
   "source": [
    "def update_inventory(customer_orders, inventory):\n",
    "    inventory = { product: quantity - 1 for product, quantity in inventory.items() if product in customer_orders and quantity > 0 }\n",
    "    return inventory"
   ]
  },
  {
   "cell_type": "code",
   "execution_count": 10,
   "id": "5fcbc0ef-e728-42db-ab70-d2f37225345d",
   "metadata": {},
   "outputs": [],
   "source": [
    "def calculate_order_statistics(customer_orders, products):\n",
    "    total_products_ordered = len(customer_orders)\n",
    "    unique_orders = set(customer_orders)\n",
    "    percentage_unique_products = (len(unique_orders) / len(products)) * 100\n",
    "    return total_products_ordered, percentage_unique_products"
   ]
  },
  {
   "cell_type": "code",
   "execution_count": 12,
   "id": "cd3878b8-8e4e-4755-941a-88a3fa38a5f2",
   "metadata": {},
   "outputs": [],
   "source": [
    "def calculate_total_price(customer_orders):\n",
    "    return sum([float(input(f\"Enter the price of {product}: \")) for product in customer_orders])"
   ]
  },
  {
   "cell_type": "code",
   "execution_count": 14,
   "id": "08e17e8c-975b-43df-8e62-dda42f3dfda1",
   "metadata": {},
   "outputs": [],
   "source": [
    "def print_order_statistics(order_statistics):\n",
    "    total_products_ordered, percentage_unique_products = order_statistics\n",
    "    print(f\"Total products ordered: {total_products_ordered}\")\n",
    "    print(f\"Percentage of unique products ordered: {percentage_unique_products:.2f}\")"
   ]
  },
  {
   "cell_type": "code",
   "execution_count": 23,
   "id": "9b6568d3-b97b-4713-b9fa-b47b02787362",
   "metadata": {},
   "outputs": [],
   "source": [
    "def print_updated_inventory(inventory):\n",
    "        for product, quantity in inventory.items():\n",
    "            print(f\"{product}: {quantity}\")"
   ]
  },
  {
   "cell_type": "code",
   "execution_count": 27,
   "id": "9ce48bdc-535f-4248-b4b7-6d66a97307cf",
   "metadata": {},
   "outputs": [
    {
     "name": "stdin",
     "output_type": "stream",
     "text": [
      "Enter the quantity of t-shirt available:  65\n",
      "Enter the quantity of mug available:  23\n",
      "Enter the quantity of hat available:  85\n",
      "Enter the quantity of book available:  65\n",
      "Enter the quantity of keychain available:  45\n",
      "Enter the number of orders:  5\n",
      "Which product did the customer order?  book\n",
      "Which product did the customer order?  mug\n",
      "Which product did the customer order?  mug\n",
      "Which product did the customer order?  keychain\n",
      "Which product did the customer order?  keychain\n"
     ]
    },
    {
     "name": "stdout",
     "output_type": "stream",
     "text": [
      "\n",
      "Order Statistics:\n",
      "Total products ordered: 3\n",
      "Percentage of unique products ordered: 60.00\n",
      "\n",
      "Updated Inventory:\n",
      "mug: 22\n",
      "book: 64\n",
      "keychain: 44\n"
     ]
    },
    {
     "name": "stdin",
     "output_type": "stream",
     "text": [
      "Enter the price of mug:  23\n",
      "Enter the price of book:  55\n",
      "Enter the price of keychain:  34\n"
     ]
    },
    {
     "name": "stdout",
     "output_type": "stream",
     "text": [
      "Total Price: 112.0\n"
     ]
    }
   ],
   "source": [
    "def all():\n",
    "    products = [\"t-shirt\", \"mug\", \"hat\", \"book\", \"keychain\"]\n",
    "    \n",
    "    inventory = initialize_inventory(products)\n",
    "    customer_orders = get_customer_orders()\n",
    "    inventory = update_inventory(customer_orders, inventory)\n",
    "    order_statistics = calculate_order_statistics(customer_orders, products)\n",
    "    print(\"\")\n",
    "    print(\"Order Statistics:\")\n",
    "    print_order_statistics(order_statistics)\n",
    "    print(\"\")\n",
    "    print(\"Updated Inventory:\")\n",
    "    print_updated_inventory(inventory)\n",
    "    total_price = calculate_total_price(customer_orders)\n",
    "    print(f\"Total Price: {total_price}\")\n",
    "\n",
    "\n",
    "all()"
   ]
  },
  {
   "cell_type": "code",
   "execution_count": null,
   "id": "1e3c9364-4c52-43c9-9f21-be586e455cb3",
   "metadata": {},
   "outputs": [],
   "source": []
  },
  {
   "cell_type": "code",
   "execution_count": null,
   "id": "ac5271d9-8fb1-4542-9b06-21fd3929d532",
   "metadata": {},
   "outputs": [],
   "source": []
  }
 ],
 "metadata": {
  "kernelspec": {
   "display_name": "Python 3 (ipykernel)",
   "language": "python",
   "name": "python3"
  },
  "language_info": {
   "codemirror_mode": {
    "name": "ipython",
    "version": 3
   },
   "file_extension": ".py",
   "mimetype": "text/x-python",
   "name": "python",
   "nbconvert_exporter": "python",
   "pygments_lexer": "ipython3",
   "version": "3.12.4"
  }
 },
 "nbformat": 4,
 "nbformat_minor": 5
}
